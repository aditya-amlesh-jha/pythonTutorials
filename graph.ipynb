{
 "cells": [
  {
   "attachments": {},
   "cell_type": "markdown",
   "metadata": {},
   "source": [
    "a graph is a data structure that represents a collection of interconnected nodes or vertices. It is used to model relationships between different entities.\n",
    "\n",
    "A graph consists of two main components:\n",
    "\n",
    "Nodes or Vertices: These are the entities or elements in the graph. Each node typically contains some data associated with it.\n",
    "Edges: These are the connections or relationships between the nodes. An edge represents a link or connection between two nodes in the graph.\n",
    "Graphs can be classified into two broad categories based on the presence or absence of directed edges:\n",
    "\n",
    "Undirected Graph: In an undirected graph, the edges have no specific direction. The connection between nodes is bidirectional, meaning you can traverse from one node to another in both directions.\n",
    "Directed Graph (or Digraph): In a directed graph, the edges have a specific direction. The connection between nodes is unidirectional, meaning you can only traverse from one node to another in the direction specified by the edge."
   ]
  },
  {
   "cell_type": "code",
   "execution_count": 19,
   "metadata": {},
   "outputs": [],
   "source": [
    "class Graph:\n",
    "    def __init__(self):\n",
    "        self.graph = {}\n",
    "    def addVertex(self,vertex):\n",
    "        if vertex not in self.graph:\n",
    "            self.graph[vertex] = set()\n",
    "    def addEdge(self,v1,v2):\n",
    "        self.addVertex(v1)\n",
    "        self.addVertex(v2)\n",
    "        self.graph[v1].add(v2)\n",
    "        self.graph[v2].add(v1)\n",
    "    def getVertex(self):\n",
    "        return list(self.graph.keys())\n",
    "    def getEdges(self):\n",
    "        res = []\n",
    "        for i in self.graph.keys():\n",
    "            for j in self.graph[i]:\n",
    "                res.append([i,j])\n",
    "        return res\n",
    "    def dfs(self,src):\n",
    "        visited = set()\n",
    "        stack = []\n",
    "        stack.append(src)\n",
    "        visited.add(src)\n",
    "        while len(stack):\n",
    "            top = stack.pop()\n",
    "            print(top,end=\" \")\n",
    "            for i in self.graph[top]:\n",
    "                if i not in visited:\n",
    "                    stack.append(i)\n",
    "                    visited.add(i)\n",
    "    def bfs(self,src):\n",
    "        visited = set()\n",
    "        queue = []\n",
    "        queue.append(src)\n",
    "        visited.add(src)\n",
    "        while len(queue):\n",
    "            size = len(queue)\n",
    "            for i in range(size):\n",
    "                front = queue.pop(0)\n",
    "                print(front,end=\" \")\n",
    "                for j in self.graph[front]:\n",
    "                    if j not in visited:\n",
    "                        queue.append(j)\n",
    "                        visited.add(j)\n",
    "            print()"
   ]
  },
  {
   "cell_type": "code",
   "execution_count": 20,
   "metadata": {},
   "outputs": [],
   "source": [
    "g = Graph()"
   ]
  },
  {
   "cell_type": "code",
   "execution_count": 21,
   "metadata": {},
   "outputs": [],
   "source": [
    "g.addEdge('A', 'B')\n",
    "g.addEdge('A', 'C')\n",
    "g.addEdge('B', 'C')\n",
    "g.addEdge('B', 'D')\n",
    "g.addEdge('C', 'D')\n",
    "g.addEdge('D', 'E')"
   ]
  },
  {
   "cell_type": "code",
   "execution_count": 22,
   "metadata": {},
   "outputs": [
    {
     "name": "stdout",
     "output_type": "stream",
     "text": [
      "DFS:\n",
      "A C D E B "
     ]
    }
   ],
   "source": [
    "print(\"DFS:\")\n",
    "g.dfs('A') "
   ]
  },
  {
   "cell_type": "code",
   "execution_count": 23,
   "metadata": {},
   "outputs": [
    {
     "name": "stdout",
     "output_type": "stream",
     "text": [
      "\n",
      "BFS:\n",
      "A \n",
      "B C \n",
      "D \n",
      "E \n"
     ]
    }
   ],
   "source": [
    "print(\"\\nBFS:\")\n",
    "g.bfs('A')"
   ]
  },
  {
   "cell_type": "code",
   "execution_count": 24,
   "metadata": {},
   "outputs": [
    {
     "name": "stdout",
     "output_type": "stream",
     "text": [
      "[['A', 'B'], ['A', 'C'], ['B', 'D'], ['B', 'C'], ['B', 'A'], ['C', 'D'], ['C', 'B'], ['C', 'A'], ['D', 'E'], ['D', 'B'], ['D', 'C'], ['E', 'D']]\n"
     ]
    }
   ],
   "source": [
    "print(g.getEdges())"
   ]
  },
  {
   "attachments": {},
   "cell_type": "markdown",
   "metadata": {},
   "source": [
    "**directed Graph**"
   ]
  },
  {
   "cell_type": "code",
   "execution_count": 9,
   "metadata": {},
   "outputs": [],
   "source": [
    "class Graph:\n",
    "    def __init__(self):\n",
    "        self.graph = {}\n",
    "    def addVertex(self,vertex):\n",
    "        if vertex not in self.graph:\n",
    "            self.graph[vertex] = set()\n",
    "    def addEdge(self,v1,v2):\n",
    "        self.addVertex(v1)\n",
    "        self.addVertex(v2)\n",
    "        self.graph[v1].add(v2)\n",
    "    def getVertex(self):\n",
    "        return list(self.graph.keys())\n",
    "    def getEdges(self):\n",
    "        res = []\n",
    "        for i in self.graph.keys():\n",
    "            for j in self.graph[i]:\n",
    "                res.append([i,j])\n",
    "        return res\n",
    "    def dfs(self):\n",
    "        visited = set()\n",
    "        for i in self.graph.keys():\n",
    "            if i not in visited:\n",
    "                self.callDFS(i,visited)    \n",
    "    def callDFS(self,src,visited):\n",
    "        stack = []\n",
    "        stack.append(src)\n",
    "        visited.add(src)\n",
    "        while len(stack):\n",
    "            top = stack.pop()\n",
    "            print(top,end=\" \")\n",
    "            for i in self.graph[top]:\n",
    "                if i not in visited:\n",
    "                    stack.append(i)\n",
    "                    visited.add(i)\n",
    "    def bfs(self):\n",
    "        visited = set()\n",
    "        for i in self.graph.keys():\n",
    "            if i not in visited:\n",
    "                self.callBFS(i,visited)   \n",
    "    \n",
    "    def callBFS(self,src,visited):\n",
    "        queue = []\n",
    "        queue.append(src)\n",
    "        visited.add(src)\n",
    "        while len(queue):\n",
    "            size = len(queue)\n",
    "            for i in range(size):\n",
    "                front = queue.pop(0)\n",
    "                print(front,end=\" \")\n",
    "                for j in self.graph[front]:\n",
    "                    if j not in visited:\n",
    "                        queue.append(j)\n",
    "                        visited.add(j)\n",
    "            print()"
   ]
  },
  {
   "cell_type": "code",
   "execution_count": 10,
   "metadata": {},
   "outputs": [],
   "source": [
    "g = Graph()"
   ]
  },
  {
   "cell_type": "code",
   "execution_count": 11,
   "metadata": {},
   "outputs": [],
   "source": [
    "g.addEdge('A', 'B')\n",
    "g.addEdge('A', 'C')\n",
    "g.addEdge('B', 'C')\n",
    "g.addEdge('B', 'D')\n",
    "g.addEdge('C', 'D')\n",
    "g.addEdge('D', 'E')"
   ]
  },
  {
   "cell_type": "code",
   "execution_count": 13,
   "metadata": {},
   "outputs": [
    {
     "name": "stdout",
     "output_type": "stream",
     "text": [
      "DFS:\n",
      "A C D E B "
     ]
    }
   ],
   "source": [
    "print(\"DFS:\")\n",
    "g.dfs() "
   ]
  },
  {
   "cell_type": "code",
   "execution_count": 14,
   "metadata": {},
   "outputs": [
    {
     "name": "stdout",
     "output_type": "stream",
     "text": [
      "\n",
      "BFS:\n",
      "A \n",
      "B C \n",
      "D \n",
      "E \n"
     ]
    }
   ],
   "source": [
    "print(\"\\nBFS:\")\n",
    "g.bfs()"
   ]
  },
  {
   "cell_type": "code",
   "execution_count": 15,
   "metadata": {},
   "outputs": [
    {
     "name": "stdout",
     "output_type": "stream",
     "text": [
      "[['A', 'B'], ['A', 'C'], ['B', 'D'], ['B', 'C'], ['C', 'D'], ['D', 'E']]\n"
     ]
    }
   ],
   "source": [
    "print(g.getEdges())"
   ]
  },
  {
   "attachments": {},
   "cell_type": "markdown",
   "metadata": {},
   "source": [
    "Container : workflow/application including dependencies, code and configuration"
   ]
  },
  {
   "cell_type": "code",
   "execution_count": null,
   "metadata": {},
   "outputs": [],
   "source": []
  }
 ],
 "metadata": {
  "kernelspec": {
   "display_name": "Python 3",
   "language": "python",
   "name": "python3"
  },
  "language_info": {
   "codemirror_mode": {
    "name": "ipython",
    "version": 3
   },
   "file_extension": ".py",
   "mimetype": "text/x-python",
   "name": "python",
   "nbconvert_exporter": "python",
   "pygments_lexer": "ipython3",
   "version": "3.11.0"
  },
  "orig_nbformat": 4
 },
 "nbformat": 4,
 "nbformat_minor": 2
}
