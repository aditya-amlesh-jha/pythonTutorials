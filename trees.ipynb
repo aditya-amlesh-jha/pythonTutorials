{
 "cells": [
  {
   "cell_type": "code",
   "execution_count": 7,
   "metadata": {},
   "outputs": [],
   "source": [
    "class TreeNode:\n",
    "    def __init__(self,val):\n",
    "        self.val = val\n",
    "        self.left = self.right = None\n",
    "\n",
    "class Tree:\n",
    "    def __init__(self,val):\n",
    "        self.root = TreeNode(val)\n",
    "    def insert(self,val):\n",
    "        def insert_node(root,val):\n",
    "            if root.val >val:\n",
    "                if not root.left:\n",
    "                    root.left = TreeNode(val)\n",
    "                else:\n",
    "                    insert_node(root.left,val)\n",
    "            else:\n",
    "                if not root.right:\n",
    "                    root.right = TreeNode(val)\n",
    "                else:\n",
    "                    insert_node(root.right,val)\n",
    "        insert_node(self.root,val)\n",
    "    def search(self,val)->bool:\n",
    "        def search_val(root,val)->bool:\n",
    "            if not root:\n",
    "                return False\n",
    "            if root.val == val:\n",
    "                return True\n",
    "            if root.val < val:\n",
    "                return search_val(root.right,val)\n",
    "            return search_val(root.left,val)\n",
    "        return search_val(self.root,val)"
   ]
  },
  {
   "cell_type": "code",
   "execution_count": 8,
   "metadata": {},
   "outputs": [],
   "source": [
    "tree = Tree(5)"
   ]
  },
  {
   "cell_type": "code",
   "execution_count": 9,
   "metadata": {},
   "outputs": [],
   "source": [
    "tree.insert(3)\n",
    "tree.insert(7)\n",
    "tree.insert(2)\n",
    "tree.insert(4)\n",
    "tree.insert(6)\n",
    "tree.insert(8)"
   ]
  },
  {
   "cell_type": "code",
   "execution_count": 10,
   "metadata": {},
   "outputs": [
    {
     "name": "stdout",
     "output_type": "stream",
     "text": [
      "True\n",
      "False\n"
     ]
    }
   ],
   "source": [
    "# Search for a value in the tree\n",
    "print(tree.search(4))  # Output: True\n",
    "print(tree.search(9))  # Output: False"
   ]
  },
  {
   "cell_type": "code",
   "execution_count": null,
   "metadata": {},
   "outputs": [],
   "source": []
  }
 ],
 "metadata": {
  "kernelspec": {
   "display_name": "Python 3",
   "language": "python",
   "name": "python3"
  },
  "language_info": {
   "codemirror_mode": {
    "name": "ipython",
    "version": 3
   },
   "file_extension": ".py",
   "mimetype": "text/x-python",
   "name": "python",
   "nbconvert_exporter": "python",
   "pygments_lexer": "ipython3",
   "version": "3.11.0"
  },
  "orig_nbformat": 4
 },
 "nbformat": 4,
 "nbformat_minor": 2
}
