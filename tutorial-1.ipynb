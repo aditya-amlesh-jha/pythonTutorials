{
 "cells": [
  {
   "cell_type": "code",
   "execution_count": 14,
   "metadata": {},
   "outputs": [],
   "source": [
    "list1 = [2]*100"
   ]
  },
  {
   "cell_type": "code",
   "execution_count": 3,
   "metadata": {},
   "outputs": [],
   "source": [
    "list2 = list1.copy()"
   ]
  },
  {
   "cell_type": "code",
   "execution_count": 15,
   "metadata": {},
   "outputs": [],
   "source": [
    "while list1:\n",
    "    list2.append(list1.pop()**2)"
   ]
  },
  {
   "cell_type": "code",
   "execution_count": 16,
   "metadata": {},
   "outputs": [
    {
     "name": "stdout",
     "output_type": "stream",
     "text": [
      "[4, 4, 4, 4, 4, 4, 4, 4, 4]\n"
     ]
    }
   ],
   "source": [
    "print(list2[-10:-1])"
   ]
  },
  {
   "cell_type": "code",
   "execution_count": 4,
   "metadata": {},
   "outputs": [
    {
     "name": "stdout",
     "output_type": "stream",
     "text": [
      "[1, 2, 3, 4, 5, 6]\n"
     ]
    }
   ],
   "source": [
    "a = [1,2,3]\n",
    "b = [4,5,6]\n",
    "print(a+b)"
   ]
  },
  {
   "cell_type": "code",
   "execution_count": 5,
   "metadata": {},
   "outputs": [],
   "source": [
    "# Two lists cannot be multiplied"
   ]
  },
  {
   "cell_type": "code",
   "execution_count": 6,
   "metadata": {},
   "outputs": [
    {
     "name": "stdout",
     "output_type": "stream",
     "text": [
      "True\n"
     ]
    }
   ],
   "source": [
    "print(3 in a)"
   ]
  },
  {
   "cell_type": "code",
   "execution_count": 8,
   "metadata": {},
   "outputs": [
    {
     "data": {
      "text/plain": [
       "1"
      ]
     },
     "execution_count": 8,
     "metadata": {},
     "output_type": "execute_result"
    }
   ],
   "source": [
    "min(a)"
   ]
  },
  {
   "cell_type": "code",
   "execution_count": 9,
   "metadata": {},
   "outputs": [
    {
     "data": {
      "text/plain": [
       "3"
      ]
     },
     "execution_count": 9,
     "metadata": {},
     "output_type": "execute_result"
    }
   ],
   "source": [
    "max(a)"
   ]
  },
  {
   "cell_type": "code",
   "execution_count": 10,
   "metadata": {},
   "outputs": [
    {
     "name": "stdout",
     "output_type": "stream",
     "text": [
      "(1, 2, 3, 4, 5, 6)\n"
     ]
    }
   ],
   "source": [
    "# tuples can be added\n",
    "a = (1,2,3)\n",
    "b = (4,5,6)\n",
    "print(a+b)\n"
   ]
  },
  {
   "cell_type": "code",
   "execution_count": 11,
   "metadata": {},
   "outputs": [],
   "source": [
    "a = a+b"
   ]
  },
  {
   "cell_type": "code",
   "execution_count": 12,
   "metadata": {},
   "outputs": [
    {
     "data": {
      "text/plain": [
       "(1, 2, 3, 4, 5, 6)"
      ]
     },
     "execution_count": 12,
     "metadata": {},
     "output_type": "execute_result"
    }
   ],
   "source": [
    "a"
   ]
  },
  {
   "cell_type": "code",
   "execution_count": 13,
   "metadata": {},
   "outputs": [
    {
     "name": "stdout",
     "output_type": "stream",
     "text": [
      "\n",
      "This is a test\n",
      "of multi-line strings\n",
      "in Python.\n",
      "\n",
      "This is a test of \"Viking\" in Python\n"
     ]
    }
   ],
   "source": [
    "test = \"\"\"\n",
    "This is a test\n",
    "of multi-line strings\n",
    "in Python.\n",
    "\"\"\"\n",
    "\n",
    "test2 = \"This is a test of \\\"Viking\\\" in Python\"\n",
    "\n",
    "print(test)\n",
    "print(test2)"
   ]
  },
  {
   "cell_type": "code",
   "execution_count": null,
   "metadata": {},
   "outputs": [],
   "source": [
    "# \\\\is used inside strings to use speacial characters"
   ]
  },
  {
   "cell_type": "code",
   "execution_count": 15,
   "metadata": {},
   "outputs": [
    {
     "name": "stdout",
     "output_type": "stream",
     "text": [
      "My name is Aditya\n"
     ]
    }
   ],
   "source": [
    "name = \"Aditya\"\n",
    "print(f\"My name is {name}\")"
   ]
  },
  {
   "cell_type": "code",
   "execution_count": 16,
   "metadata": {},
   "outputs": [
    {
     "name": "stdout",
     "output_type": "stream",
     "text": [
      "Table for 25*1 = 25\n",
      "Table for 25*2 = 50\n",
      "Table for 25*3 = 75\n",
      "Table for 25*4 = 100\n",
      "Table for 25*5 = 125\n",
      "Table for 25*6 = 150\n",
      "Table for 25*7 = 175\n",
      "Table for 25*8 = 200\n",
      "Table for 25*9 = 225\n",
      "Table for 25*10 = 250\n"
     ]
    }
   ],
   "source": [
    "num = 25\n",
    "for i in range(1,11):\n",
    "    print(f\"Table for {num}*{i} = {num*i}\")"
   ]
  },
  {
   "cell_type": "code",
   "execution_count": 18,
   "metadata": {},
   "outputs": [],
   "source": [
    "s = {x:(lambda x:x*x)(x) for x in range(1,10)}"
   ]
  },
  {
   "cell_type": "code",
   "execution_count": 19,
   "metadata": {},
   "outputs": [
    {
     "data": {
      "text/plain": [
       "{1: 1, 2: 4, 3: 9, 4: 16, 5: 25, 6: 36, 7: 49, 8: 64, 9: 81}"
      ]
     },
     "execution_count": 19,
     "metadata": {},
     "output_type": "execute_result"
    }
   ],
   "source": [
    "s"
   ]
  },
  {
   "cell_type": "code",
   "execution_count": 20,
   "metadata": {},
   "outputs": [],
   "source": [
    "# python allows variables to start with underscore\n",
    "__a = 10"
   ]
  },
  {
   "cell_type": "code",
   "execution_count": 27,
   "metadata": {},
   "outputs": [
    {
     "name": "stdout",
     "output_type": "stream",
     "text": [
      "{1: 2, 3: 4, 5: 6, 7: 8, 9: 10}\n"
     ]
    }
   ],
   "source": [
    "# sort a map on basis of keys\n",
    "s = {1:2,3:4,5:6,7:8,9:10}\n",
    "sorted(s.keys())\n",
    "print(s)"
   ]
  },
  {
   "cell_type": "code",
   "execution_count": 28,
   "metadata": {},
   "outputs": [],
   "source": [
    "new_set = {1,2,3,4,5}"
   ]
  },
  {
   "cell_type": "code",
   "execution_count": 30,
   "metadata": {},
   "outputs": [
    {
     "name": "stdout",
     "output_type": "stream",
     "text": [
      "True\n",
      "140717383996488\n",
      "140717383996488\n"
     ]
    }
   ],
   "source": [
    "# interning in python\n",
    "a = 10\n",
    "b = 10\n",
    "print(a is b)\n",
    "print(id(a))\n",
    "print(id(b))\n",
    "# range of interning is -5 to 256"
   ]
  },
  {
   "cell_type": "code",
   "execution_count": 32,
   "metadata": {},
   "outputs": [
    {
     "name": "stdout",
     "output_type": "stream",
     "text": [
      "True\n",
      "2419757494128\n",
      "2419757494128\n"
     ]
    }
   ],
   "source": [
    "# interning is done for strings also\n",
    "a = \"Aditya\"\n",
    "b = \"Aditya\"\n",
    "print(a is b)\n",
    "print(id(a))\n",
    "print(id(b))"
   ]
  },
  {
   "cell_type": "code",
   "execution_count": 34,
   "metadata": {},
   "outputs": [
    {
     "data": {
      "text/plain": [
       "{1: 1, 2: 4, 3: 9, 4: 16, 5: 25, 6: 36, 7: 49, 8: 64, 9: 81}"
      ]
     },
     "execution_count": 34,
     "metadata": {},
     "output_type": "execute_result"
    }
   ],
   "source": [
    "m = {x:(lambda x:x*x)(x) for x in range(1,10)}\n",
    "m"
   ]
  },
  {
   "cell_type": "code",
   "execution_count": 37,
   "metadata": {},
   "outputs": [
    {
     "name": "stdout",
     "output_type": "stream",
     "text": [
      "True\n"
     ]
    }
   ],
   "source": [
    "import sys\n",
    "a = sys.intern(\"Aditya\")\n",
    "b = sys.intern(\"Aditya\")\n",
    "print(a is b)"
   ]
  },
  {
   "cell_type": "code",
   "execution_count": 41,
   "metadata": {},
   "outputs": [],
   "source": [
    "# map to calculate freq of characters in a string in one line\n",
    "s = \"XYX is currently working at Wiley Edge India Pvt Ltd\"\n",
    "freq = {x:(lambda s,x:s.count(x))(s,x) for x in s if x!=' '}"
   ]
  },
  {
   "cell_type": "code",
   "execution_count": 43,
   "metadata": {},
   "outputs": [
    {
     "name": "stdout",
     "output_type": "stream",
     "text": [
      "True\n"
     ]
    }
   ],
   "source": [
    "# python program to check if a number is palindrome\n",
    "num = 12321\n",
    "temp = 0\n",
    "while(num>temp):\n",
    "    temp = temp*10+num%10\n",
    "    num = num//10\n",
    "print(num==temp or num==temp//10)"
   ]
  },
  {
   "cell_type": "code",
   "execution_count": 46,
   "metadata": {},
   "outputs": [
    {
     "name": "stdout",
     "output_type": "stream",
     "text": [
      "4\n",
      "5\n"
     ]
    }
   ],
   "source": [
    "# python program to find intersection of two lists\n",
    "a = [1,2,3,4,5]\n",
    "b = [4,9,5,6,7,8]\n",
    "a.sort()\n",
    "b.sort()\n",
    "i = 0\n",
    "j = 0\n",
    "while i<len(a) and j<len(b):\n",
    "    if(a[i] == b[j]):\n",
    "        print(a[i])\n",
    "        i+=1\n",
    "        j+=1\n",
    "    elif a[i]<b[j]:\n",
    "        i+=1\n",
    "    else:\n",
    "        j+=1"
   ]
  },
  {
   "cell_type": "code",
   "execution_count": 50,
   "metadata": {},
   "outputs": [
    {
     "name": "stdout",
     "output_type": "stream",
     "text": [
      "c\n"
     ]
    }
   ],
   "source": [
    "# find the first non-repeating character in a string\n",
    "s = \"AAAAAAAAAAAAAAbbbbbbbbbbbbbbbbbbcxb\"\n",
    "freq = {}\n",
    "for i in s:\n",
    "    if i in freq:\n",
    "        freq[i]+=1\n",
    "    else:\n",
    "        freq[i]=1\n",
    "for i in s:\n",
    "    if freq[i]==1:\n",
    "        print(i)\n",
    "        break"
   ]
  },
  {
   "cell_type": "code",
   "execution_count": 55,
   "metadata": {},
   "outputs": [
    {
     "data": {
      "text/plain": [
       "array([ 1.        ,  1.47368421,  1.94736842,  2.42105263,  2.89473684,\n",
       "        3.36842105,  3.84210526,  4.31578947,  4.78947368,  5.26315789,\n",
       "        5.73684211,  6.21052632,  6.68421053,  7.15789474,  7.63157895,\n",
       "        8.10526316,  8.57894737,  9.05263158,  9.52631579, 10.        ])"
      ]
     },
     "execution_count": 55,
     "metadata": {},
     "output_type": "execute_result"
    }
   ],
   "source": [
    "# linspace function in numpy\n",
    "# linspace(start,stop,num)\n",
    "# num is the number of elements to be generated\n",
    "import numpy as np\n",
    "np.linspace(1,10,20)"
   ]
  },
  {
   "cell_type": "code",
   "execution_count": 58,
   "metadata": {},
   "outputs": [
    {
     "name": "stdout",
     "output_type": "stream",
     "text": [
      "9 8 7 6 5 4 3 2 1 "
     ]
    }
   ],
   "source": [
    "# using reversed function with range\n",
    "for i in reversed(range(1,10)):\n",
    "    print(i, end = \" \")"
   ]
  },
  {
   "cell_type": "code",
   "execution_count": 60,
   "metadata": {},
   "outputs": [],
   "source": [
    "# difference between pass and continue\n",
    "# pass is used to do nothing\n",
    "# continue is used to skip the current iteration"
   ]
  },
  {
   "cell_type": "code",
   "execution_count": 69,
   "metadata": {},
   "outputs": [
    {
     "name": "stdout",
     "output_type": "stream",
     "text": [
      "[ 7  9 11 13 15]\n",
      "[-5 -5 -5 -5 -5]\n",
      "[ 6 14 24 36 50]\n",
      "[0.16666667 0.28571429 0.375      0.44444444 0.5       ]\n",
      "[1 2 3 4 5]\n",
      "[      1     128    6561  262144 9765625]\n"
     ]
    }
   ],
   "source": [
    "# various arithmetic operations on numpy arrays\n",
    "a = np.array([1,2,3,4,5])\n",
    "b = np.array([6,7,8,9,10])\n",
    "print(a+b)\n",
    "\n",
    "print(a-b)\n",
    "\n",
    "print(a*b)\n",
    "\n",
    "print(a/b)\n",
    "\n",
    "print(a%b)\n",
    "\n",
    "print(a**b)\n",
    "\n",
    "\n"
   ]
  },
  {
   "cell_type": "code",
   "execution_count": 65,
   "metadata": {},
   "outputs": [
    {
     "name": "stdout",
     "output_type": "stream",
     "text": [
      "15\n",
      "1\n",
      "5\n",
      "[ 1  3  6 10 15]\n",
      "[  1   2   6  24 120]\n",
      "3.0\n",
      "1.4142135623730951\n",
      "2.0\n",
      "True\n",
      "True\n"
     ]
    }
   ],
   "source": [
    "# various unary operations on numpy arrays\n",
    "\n",
    "a = np.array([1,2,3,4,5])\n",
    "\n",
    "print(a.sum())\n",
    "\n",
    "print(a.min())\n",
    "\n",
    "print(a.max())\n",
    "\n",
    "print(a.cumsum())\n",
    "\n",
    "print(a.cumprod())\n",
    "\n",
    "print(a.mean())\n",
    "\n",
    "print(a.std())\n",
    "\n",
    "print(a.var())\n",
    "\n",
    "# any and all functions in numpy\n",
    "# any returns true if any element is true\n",
    "# all returns true if all elements are true\n",
    "\n",
    "print(a.any())\n",
    "\n",
    "print(a.all())"
   ]
  },
  {
   "cell_type": "code",
   "execution_count": 68,
   "metadata": {},
   "outputs": [
    {
     "name": "stdout",
     "output_type": "stream",
     "text": [
      "[0 2 0 0 0]\n",
      "[ 7  7 11 13 15]\n",
      "[ 7  5 11 13 15]\n",
      "[-2 -3 -4 -5 -6]\n",
      "[ 4  8 12 16 20]\n",
      "[0 0 0 1 1]\n"
     ]
    }
   ],
   "source": [
    "# various bitwise operations on numpy arrays\n",
    "\n",
    "a = np.array([1,2,3,4,5])\n",
    "b = np.array([6,7,8,9,10])\n",
    "\n",
    "print(a&b)\n",
    "\n",
    "print(a|b)\n",
    "\n",
    "print(a^b)\n",
    "\n",
    "print(~a)\n",
    "\n",
    "# left shift and right shift\n",
    "# left shift is equivalent to multiplying by 2\n",
    "# right shift is equivalent to dividing by 2\n",
    "# symbol is << and >>\n",
    "# a<<2 means a*2^2\n",
    "# a>>2 means a/2^2\n",
    "\n",
    "print(a<<2)\n",
    "\n",
    "print(a>>2)"
   ]
  },
  {
   "cell_type": "code",
   "execution_count": 70,
   "metadata": {},
   "outputs": [
    {
     "name": "stdout",
     "output_type": "stream",
     "text": [
      "[False False False False False]\n",
      "[ True  True  True  True  True]\n",
      "[False False False False False]\n",
      "[ True  True  True  True  True]\n",
      "[False False False False False]\n",
      "[ True  True  True  True  True]\n"
     ]
    }
   ],
   "source": [
    "# various logical operations on numpy arrays\n",
    "a = np.array([1,2,3,4,5])\n",
    "b = np.array([6,7,8,9,10])\n",
    "print(a>b)\n",
    "\n",
    "print(a<b)\n",
    "\n",
    "print(a==b)\n",
    "\n",
    "print(a!=b)\n",
    "\n",
    "print(a>=b)\n",
    "\n",
    "print(a<=b)"
   ]
  },
  {
   "cell_type": "code",
   "execution_count": 80,
   "metadata": {},
   "outputs": [],
   "source": [
    "def takeInput():\n",
    "    print(\"Enter two lists to be merged\")\n",
    "    a = eval(input(\"Enter list1 : \"))\n",
    "    b = eval(input(\"Enter list2 : \"))\n",
    "    return a,b\n",
    "\n",
    "def sortList(a):\n",
    "    # bubble sort\n",
    "    for i in range(len(a)):\n",
    "        for j in range(len(a)-i-1):\n",
    "            if a[j]>a[j+1]:\n",
    "                a[j],a[j+1] = a[j+1],a[j]\n",
    "    return a\n",
    "\n",
    "def mergeList(a,b):\n",
    "    a = sortList(a)\n",
    "    b = sortList(b)\n",
    "    c = []\n",
    "    i = 0\n",
    "    j = 0\n",
    "    while i<len(a) and j<len(b):\n",
    "        if a[i]<b[j]:\n",
    "            c.append(a[i])\n",
    "            i+=1\n",
    "        else:\n",
    "            c.append(b[j])\n",
    "            j+=1\n",
    "    while i<len(a):\n",
    "        c.append(a[i])\n",
    "        i+=1\n",
    "    while j<len(b):\n",
    "        c.append(b[j])\n",
    "        j+=1\n",
    "    return c\n",
    "\n",
    "def findMedian(c):\n",
    "    index = len(c)//2\n",
    "    if len(c)%2==0:\n",
    "        return (c[index]+c[index-1])/2\n",
    "    return c[index]\n",
    "\n",
    "def findMode(c):\n",
    "    # python program to find mode of a list\n",
    "    freq = {}\n",
    "    for i in c:\n",
    "        if i in freq:\n",
    "            freq[i]+=1\n",
    "        else:\n",
    "            freq[i]=1\n",
    "    max_freq = 0\n",
    "    mode = 0\n",
    "    for i in freq:\n",
    "        if freq[i]>max_freq:\n",
    "            max_freq = freq[i]\n",
    "            mode = i\n",
    "    return mode\n",
    "\n",
    "def callFunctions():\n",
    "    print(\"**************************************************\")\n",
    "    a,b = takeInput()\n",
    "    print(\"**************************************************\")\n",
    "    c = mergeList(a,b)\n",
    "    print(\"New sorted list is : \")\n",
    "    print(c)\n",
    "    print(f\"Median of sorted List is : {findMedian(c)}\")\n",
    "    if len(c)>0:\n",
    "        print(f\"Mean of sorted list is : {sum(c)/len(c)}\")\n",
    "    print(f\"Mode of sorted list is {findMode(c)}\")\n"
   ]
  },
  {
   "cell_type": "code",
   "execution_count": 81,
   "metadata": {},
   "outputs": [
    {
     "name": "stdout",
     "output_type": "stream",
     "text": [
      "Enter two lists to be merged\n",
      "[1, 2, 2, 3, 4, 5, 6, 7, 9, 10]\n",
      "Median of sorted List is : 4.5\n",
      "Mean of sorted list is : 4.9\n",
      "Mode of sorted list is 2\n"
     ]
    }
   ],
   "source": [
    "callFunctions()"
   ]
  },
  {
   "cell_type": "code",
   "execution_count": null,
   "metadata": {},
   "outputs": [],
   "source": [
    "def toDoList():\n",
    "    "
   ]
  }
 ],
 "metadata": {
  "kernelspec": {
   "display_name": "Python 3",
   "language": "python",
   "name": "python3"
  },
  "language_info": {
   "codemirror_mode": {
    "name": "ipython",
    "version": 3
   },
   "file_extension": ".py",
   "mimetype": "text/x-python",
   "name": "python",
   "nbconvert_exporter": "python",
   "pygments_lexer": "ipython3",
   "version": "3.11.0"
  },
  "orig_nbformat": 4
 },
 "nbformat": 4,
 "nbformat_minor": 2
}
