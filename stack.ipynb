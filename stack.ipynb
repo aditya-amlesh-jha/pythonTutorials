{
 "cells": [
  {
   "cell_type": "code",
   "execution_count": 17,
   "metadata": {},
   "outputs": [],
   "source": [
    "class Stack:\n",
    "    def __init__(self):\n",
    "        self.stack = []\n",
    "    def push(self,value):\n",
    "        self.stack.append(value)\n",
    "    def pop(self):\n",
    "        return self.stack.pop() if not self.isEmpty() else -1\n",
    "    def isEmpty(self):\n",
    "        return len(self.stack) == 0\n",
    "    def peek(self):\n",
    "        return self.stack[-1] if not self.isEmpty() else -1\n",
    "    def __str__(self):\n",
    "        res = \"\"\n",
    "        for i in self.stack:\n",
    "            res += str(i)+\"->\"\n",
    "        return res[:-2] if len(res) else \"empty\""
   ]
  },
  {
   "cell_type": "code",
   "execution_count": 21,
   "metadata": {},
   "outputs": [
    {
     "name": "stdout",
     "output_type": "stream",
     "text": [
      "0->1->2->3->4->5->6->7->8->9\n"
     ]
    }
   ],
   "source": [
    "stack = Stack()\n",
    "for i in range(10):\n",
    "    stack.push(i)\n",
    "print(stack)"
   ]
  },
  {
   "cell_type": "code",
   "execution_count": 19,
   "metadata": {},
   "outputs": [
    {
     "name": "stdout",
     "output_type": "stream",
     "text": [
      "0->1->2->3->4->5->6->7->8\n",
      "0->1->2->3->4->5->6->7\n",
      "0->1->2->3->4->5->6\n",
      "0->1->2->3->4->5\n",
      "0->1->2->3->4\n",
      "0->1->2->3\n",
      "0->1->2\n",
      "0->1\n",
      "0\n",
      "empty\n",
      "empty\n",
      "empty\n",
      "empty\n",
      "empty\n",
      "empty\n",
      "empty\n",
      "empty\n",
      "empty\n",
      "empty\n",
      "empty\n"
     ]
    }
   ],
   "source": [
    "for i in range(20):\n",
    "    stack.pop()\n",
    "    print(stack)"
   ]
  },
  {
   "cell_type": "code",
   "execution_count": 22,
   "metadata": {},
   "outputs": [
    {
     "name": "stdout",
     "output_type": "stream",
     "text": [
      "False\n"
     ]
    }
   ],
   "source": [
    "print(stack.isEmpty())"
   ]
  },
  {
   "cell_type": "code",
   "execution_count": 23,
   "metadata": {},
   "outputs": [],
   "source": [
    "stack = Stack()"
   ]
  },
  {
   "cell_type": "code",
   "execution_count": 31,
   "metadata": {},
   "outputs": [
    {
     "name": "stdout",
     "output_type": "stream",
     "text": [
      "Pattern is complete :  True\n"
     ]
    }
   ],
   "source": [
    "pattern = \"()(())()\"\n",
    "flag = True\n",
    "\n",
    "for i in pattern:\n",
    "    if i=='(':\n",
    "        stack.push(i)\n",
    "    elif stack.isEmpty():\n",
    "        flag = False\n",
    "        break\n",
    "    else:\n",
    "        stack.pop()\n",
    "\n",
    "\n",
    "print(\"Pattern is complete : \",stack.isEmpty() and flag)"
   ]
  },
  {
   "cell_type": "code",
   "execution_count": null,
   "metadata": {},
   "outputs": [],
   "source": []
  }
 ],
 "metadata": {
  "kernelspec": {
   "display_name": "Python 3",
   "language": "python",
   "name": "python3"
  },
  "language_info": {
   "codemirror_mode": {
    "name": "ipython",
    "version": 3
   },
   "file_extension": ".py",
   "mimetype": "text/x-python",
   "name": "python",
   "nbconvert_exporter": "python",
   "pygments_lexer": "ipython3",
   "version": "3.11.0"
  },
  "orig_nbformat": 4
 },
 "nbformat": 4,
 "nbformat_minor": 2
}
