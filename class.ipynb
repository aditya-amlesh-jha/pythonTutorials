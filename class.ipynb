{
 "cells": [
  {
   "cell_type": "code",
   "execution_count": 3,
   "metadata": {},
   "outputs": [],
   "source": [
    "# multiple inheritance\n",
    "# Method Resolution Order (MRO)\n",
    "# https://www.python.org/download/releases/2.3/mro/\n",
    "\n",
    "class A:\n",
    "    def foo(self):\n",
    "        print(\"A\")\n",
    "\n",
    "class B(A):\n",
    "    def foo(self):\n",
    "        print(\"B\")\n",
    "\n",
    "class C(A):\n",
    "    def foo(self):\n",
    "        print(\"C\")\n",
    "\n",
    "class D(B,C):\n",
    "    pass"
   ]
  },
  {
   "cell_type": "code",
   "execution_count": 4,
   "metadata": {},
   "outputs": [
    {
     "name": "stdout",
     "output_type": "stream",
     "text": [
      "B\n"
     ]
    }
   ],
   "source": [
    "d = D()\n",
    "d.foo()"
   ]
  },
  {
   "cell_type": "code",
   "execution_count": 5,
   "metadata": {},
   "outputs": [
    {
     "name": "stdout",
     "output_type": "stream",
     "text": [
      "[<class '__main__.D'>, <class '__main__.B'>, <class '__main__.C'>, <class '__main__.A'>, <class 'object'>]\n"
     ]
    }
   ],
   "source": [
    "# example of MRO\n",
    "print(D.mro())\n"
   ]
  },
  {
   "cell_type": "code",
   "execution_count": 6,
   "metadata": {},
   "outputs": [
    {
     "name": "stdout",
     "output_type": "stream",
     "text": [
      "1\n",
      "3\n",
      "6\n"
     ]
    }
   ],
   "source": [
    "class A:\n",
    "    def add(self,a,b=None,c=None):\n",
    "        if b is None and c is None:\n",
    "            return a\n",
    "        elif c is None:\n",
    "            return a+b\n",
    "        else:\n",
    "            return a+b+c\n",
    "\n",
    "a = A()\n",
    "print(a.add(1))\n",
    "print(a.add(1,2))\n",
    "print(a.add(1,2,3))"
   ]
  },
  {
   "cell_type": "code",
   "execution_count": 8,
   "metadata": {},
   "outputs": [
    {
     "name": "stdout",
     "output_type": "stream",
     "text": [
      "(1, 2, 3, 4, 5)\n",
      "15\n",
      "{'a': 1, 'b': 2, 'c': 3, 'd': 4, 'e': 5}\n",
      "15\n",
      "30\n"
     ]
    }
   ],
   "source": [
    "# example of *args and **kwargs\n",
    "class A:\n",
    "    def add(self,*args):\n",
    "        print(args)\n",
    "        res = 0\n",
    "        for i in args:\n",
    "            res += i\n",
    "        return res\n",
    "    \n",
    "    def add2(self,**kwargs):\n",
    "        print(kwargs)\n",
    "        res = 0\n",
    "        for key,value in kwargs.items():\n",
    "            res += value\n",
    "        return res\n",
    "    \n",
    "    def add3(self,*args,**kwargs):\n",
    "        res = 0\n",
    "        for i in args:\n",
    "            res += i\n",
    "        for key,value in kwargs.items():\n",
    "            res += value\n",
    "        return res\n",
    "    \n",
    "a = A()\n",
    "print(a.add(1,2,3,4,5))\n",
    "print(a.add2(a=1,b=2,c=3,d=4,e=5))\n",
    "print(a.add3(1,2,3,4,5,a=1,b=2,c=3,d=4,e=5))"
   ]
  },
  {
   "cell_type": "code",
   "execution_count": 10,
   "metadata": {},
   "outputs": [
    {
     "name": "stdout",
     "output_type": "stream",
     "text": [
      "Collecting multipledispatch\n",
      "  Downloading multipledispatch-0.6.0-py3-none-any.whl (11 kB)\n",
      "Requirement already satisfied: six in c:\\users\\adi4a\\appdata\\local\\packages\\pythonsoftwarefoundation.python.3.11_qbz5n2kfra8p0\\localcache\\local-packages\\python311\\site-packages (from multipledispatch) (1.16.0)\n",
      "Installing collected packages: multipledispatch\n",
      "Successfully installed multipledispatch-0.6.0\n",
      "Note: you may need to restart the kernel to use updated packages.\n"
     ]
    }
   ],
   "source": [
    "pip install multipledispatch"
   ]
  },
  {
   "cell_type": "code",
   "execution_count": 12,
   "metadata": {},
   "outputs": [
    {
     "data": {
      "text/plain": [
       "4"
      ]
     },
     "execution_count": 12,
     "metadata": {},
     "output_type": "execute_result"
    }
   ],
   "source": [
    "from multipledispatch import dispatch\n",
    "\n",
    "@dispatch(int,int)\n",
    "def a(c,d):\n",
    "    return c+d\n",
    "\n",
    "@dispatch(int,int,int)\n",
    "def a(c,d,e):\n",
    "    return c+d+e\n",
    "\n",
    "a(1,3)"
   ]
  },
  {
   "cell_type": "code",
   "execution_count": 13,
   "metadata": {},
   "outputs": [
    {
     "name": "stdout",
     "output_type": "stream",
     "text": [
      "This is a custom exception\n"
     ]
    }
   ],
   "source": [
    "class CustomException(Exception):\n",
    "    def __init__(self,message):\n",
    "        super().__init__(message)\n",
    "\n",
    "try:\n",
    "    raise CustomException(\"This is a custom exception\")\n",
    "except CustomException as e:\n",
    "    print(e)"
   ]
  },
  {
   "cell_type": "code",
   "execution_count": 14,
   "metadata": {},
   "outputs": [],
   "source": [
    "file = open(\"sample.csv\",\"r\")"
   ]
  },
  {
   "cell_type": "code",
   "execution_count": 18,
   "metadata": {},
   "outputs": [
    {
     "name": "stdout",
     "output_type": "stream",
     "text": [
      "Cannot calculate square root of negative number\n",
      "This will always run\n"
     ]
    }
   ],
   "source": [
    "def calculate_square_root(num):\n",
    "    if num < 0:\n",
    "        raise ValueError(\"Cannot calculate square root of negative number\")\n",
    "    return num**0.5\n",
    "\n",
    "try:\n",
    "    result = calculate_square_root(-1)\n",
    "    print(result)\n",
    "except ValueError as e:\n",
    "    print(e)\n",
    "finally:\n",
    "    print(\"This will always run\")"
   ]
  },
  {
   "cell_type": "code",
   "execution_count": 25,
   "metadata": {},
   "outputs": [
    {
     "name": "stdout",
     "output_type": "stream",
     "text": [
      "This is custom exception\n"
     ]
    }
   ],
   "source": [
    "# reading sample.csv using try, except and finally\n",
    "try:\n",
    "    raise CustomException(\"This is custom exception\")\n",
    "    file = open(\"sample.csv\",\"r\")\n",
    "    print(file.read())\n",
    "except CustomException as e:\n",
    "    print(e)\n",
    "except FileNotFoundError as e:\n",
    "    print(e)\n",
    "except IOError as e:\n",
    "    print(e)\n",
    "finally:\n",
    "    file.close()\n"
   ]
  },
  {
   "cell_type": "code",
   "execution_count": 1,
   "metadata": {},
   "outputs": [
    {
     "name": "stdout",
     "output_type": "stream",
     "text": [
      "Done\n"
     ]
    }
   ],
   "source": [
    "try:\n",
    "    with open(\"sample.txt\",\"w\") as file:\n",
    "        file.write(\"This is first line\\n\")\n",
    "        file.write(\"This is second line\\n\")\n",
    "except IOError as e:\n",
    "    print(e)\n",
    "finally:\n",
    "    print(\"Done\")\n"
   ]
  },
  {
   "cell_type": "code",
   "execution_count": null,
   "metadata": {},
   "outputs": [],
   "source": []
  }
 ],
 "metadata": {
  "kernelspec": {
   "display_name": "Python 3",
   "language": "python",
   "name": "python3"
  },
  "language_info": {
   "codemirror_mode": {
    "name": "ipython",
    "version": 3
   },
   "file_extension": ".py",
   "mimetype": "text/x-python",
   "name": "python",
   "nbconvert_exporter": "python",
   "pygments_lexer": "ipython3",
   "version": "3.11.3"
  },
  "orig_nbformat": 4
 },
 "nbformat": 4,
 "nbformat_minor": 2
}
