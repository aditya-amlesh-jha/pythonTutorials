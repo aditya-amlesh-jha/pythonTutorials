{
 "cells": [
  {
   "cell_type": "code",
   "execution_count": 11,
   "metadata": {},
   "outputs": [],
   "source": [
    "class Queue:\n",
    "    def __init__(self):\n",
    "        self.items = []\n",
    "    def enqueue(self,value):\n",
    "        self.items.append(value)\n",
    "    # def dequeue(self):\n",
    "    #     return self.items.pop(0) if not self.isEmpty() else -1\n",
    "    def dequeue(self,no_of_items=1):\n",
    "        count = 0\n",
    "        while count<no_of_items and self.isEmpty()==False:\n",
    "            self.items.pop(0)\n",
    "            count +=1\n",
    "    def isEmpty(self):\n",
    "        return len(self.items) == 0\n",
    "    def front(self):\n",
    "        return self.items[0] if not self.isEmpty() else -1\n",
    "    def __str__(self):\n",
    "        res = \"\"\n",
    "        for i in self.items:\n",
    "            res += str(i)+\"<-\"\n",
    "        return res[:-2] if len(res) else \"empty\" "
   ]
  },
  {
   "cell_type": "code",
   "execution_count": 12,
   "metadata": {},
   "outputs": [],
   "source": [
    "queue = Queue()"
   ]
  },
  {
   "cell_type": "code",
   "execution_count": 13,
   "metadata": {},
   "outputs": [],
   "source": [
    "for i in range(10):\n",
    "    queue.enqueue(i)"
   ]
  },
  {
   "cell_type": "code",
   "execution_count": 20,
   "metadata": {},
   "outputs": [
    {
     "name": "stdout",
     "output_type": "stream",
     "text": [
      "empty\n"
     ]
    }
   ],
   "source": [
    "print(queue)"
   ]
  },
  {
   "cell_type": "code",
   "execution_count": 19,
   "metadata": {},
   "outputs": [],
   "source": [
    "queue.dequeue(6)"
   ]
  },
  {
   "cell_type": "code",
   "execution_count": null,
   "metadata": {},
   "outputs": [],
   "source": []
  }
 ],
 "metadata": {
  "kernelspec": {
   "display_name": "Python 3",
   "language": "python",
   "name": "python3"
  },
  "language_info": {
   "codemirror_mode": {
    "name": "ipython",
    "version": 3
   },
   "file_extension": ".py",
   "mimetype": "text/x-python",
   "name": "python",
   "nbconvert_exporter": "python",
   "pygments_lexer": "ipython3",
   "version": "3.11.0"
  },
  "orig_nbformat": 4
 },
 "nbformat": 4,
 "nbformat_minor": 2
}
