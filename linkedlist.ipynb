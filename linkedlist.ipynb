{
 "cells": [
  {
   "cell_type": "code",
   "execution_count": 2,
   "metadata": {},
   "outputs": [],
   "source": [
    "class Node:\n",
    "    def __init__(self,value)->None:\n",
    "        self.value = value\n",
    "        self.next = None"
   ]
  },
  {
   "cell_type": "code",
   "execution_count": 76,
   "metadata": {},
   "outputs": [],
   "source": [
    "class LinkedList:\n",
    "    def __init__(self)->None:\n",
    "        self.head = None\n",
    "        self.tail = None\n",
    "        self.count = 0\n",
    "    \n",
    "    def push_back(self,value)->None:\n",
    "        if self.head == None:\n",
    "            self.head = self.tail = Node(value)\n",
    "        else:\n",
    "            self.tail.next = Node(value)\n",
    "            self.tail = self.tail.next\n",
    "        self.count += 1\n",
    "    \n",
    "    def push_front(self,value)->None:\n",
    "        if self.head == None:\n",
    "            self.push_back(value)\n",
    "        else:\n",
    "            newNode = Node(value)\n",
    "            newNode.next = self.head\n",
    "            self.head = newNode\n",
    "            self.count += 1\n",
    "\n",
    "\n",
    "    def pop_front(self)->None:\n",
    "        # Linked list function to remove the first element\n",
    "        if self.head == None:\n",
    "            return\n",
    "\n",
    "        if self.head == self.tail:\n",
    "            del self.head\n",
    "            self.head = self.tail = None\n",
    "            self.count -= 1\n",
    "            return\n",
    "\n",
    "        temp = self.head\n",
    "        self.head = self.head.next\n",
    "        del temp\n",
    "        self.count -= 1\n",
    "\n",
    "\n",
    "    def pop_back(self)->None:\n",
    "        if self.head == None or self.head == self.tail:\n",
    "            self.pop_front()\n",
    "            return\n",
    "        else:\n",
    "            curr = self.head\n",
    "            prev = None\n",
    "            while curr.next:\n",
    "                prev = curr\n",
    "                curr = curr.next\n",
    "            prev.next = None\n",
    "            self.tail = prev\n",
    "            self.count -= 1\n",
    "            del curr\n",
    "            \n",
    "\n",
    "    def __len__(self)->int:\n",
    "        return self.count    \n",
    "    \n",
    "    def getItem(self,index):\n",
    "        if index<0 or index >= self.count:\n",
    "            return -1\n",
    "        curr = self.head\n",
    "        pos = 0\n",
    "        while pos < index:\n",
    "            curr = curr.next\n",
    "            pos += 1\n",
    "        return curr.value\n",
    "    \n",
    "    def removeItem(self,index):\n",
    "        if index<0 or index>=self.count:\n",
    "            return -1\n",
    "        if index == 0:\n",
    "            self.pop_front()\n",
    "            return\n",
    "        if index == self.count-1:\n",
    "            self.pop_back()\n",
    "            return\n",
    "\n",
    "        prev = None\n",
    "        curr = self.head\n",
    "        pos = 0\n",
    "        while pos < index:\n",
    "            prev = curr\n",
    "            curr = curr.next\n",
    "            pos += 1\n",
    "        prev.next = curr.next\n",
    "        self.count -= 1\n",
    "        del curr\n",
    "        \n",
    "    def reverse(self):\n",
    "        prevNode = nextNode = None\n",
    "        currNode = self.head\n",
    "        while currNode:\n",
    "            nextNode = currNode.next\n",
    "            currNode.next = prevNode\n",
    "            prevNode = currNode\n",
    "            currNode = nextNode\n",
    "        self.head = prevNode\n",
    "            \n",
    "    def __str__(self):\n",
    "        res = \"\"\n",
    "        curr = self.head;\n",
    "        while curr:\n",
    "            res += str(curr.value)+\"->\"\n",
    "            curr = curr.next\n",
    "        return res[:-2]\n"
   ]
  },
  {
   "cell_type": "code",
   "execution_count": 77,
   "metadata": {},
   "outputs": [],
   "source": [
    "ob = LinkedList()"
   ]
  },
  {
   "cell_type": "code",
   "execution_count": 78,
   "metadata": {},
   "outputs": [
    {
     "name": "stdout",
     "output_type": "stream",
     "text": [
      "0->1->2->3->4->5->6->7->8->9\n"
     ]
    }
   ],
   "source": [
    "for i in range(10):\n",
    "    ob.push_back(i)\n",
    "\n",
    "print(ob)"
   ]
  },
  {
   "cell_type": "code",
   "execution_count": 63,
   "metadata": {},
   "outputs": [
    {
     "name": "stdout",
     "output_type": "stream",
     "text": [
      "0\n",
      "1\n",
      "2\n",
      "3\n",
      "4\n",
      "5\n",
      "6\n",
      "7\n",
      "8\n",
      "9\n"
     ]
    }
   ],
   "source": [
    "for i in range(10):\n",
    "    print(ob.getItem(i))"
   ]
  },
  {
   "cell_type": "code",
   "execution_count": 75,
   "metadata": {},
   "outputs": [
    {
     "name": "stdout",
     "output_type": "stream",
     "text": [
      "\n"
     ]
    }
   ],
   "source": [
    "ob.removeItem(0)\n",
    "print(ob)"
   ]
  }
 ],
 "metadata": {
  "kernelspec": {
   "display_name": "Python 3",
   "language": "python",
   "name": "python3"
  },
  "language_info": {
   "codemirror_mode": {
    "name": "ipython",
    "version": 3
   },
   "file_extension": ".py",
   "mimetype": "text/x-python",
   "name": "python",
   "nbconvert_exporter": "python",
   "pygments_lexer": "ipython3",
   "version": "3.11.0"
  },
  "orig_nbformat": 4
 },
 "nbformat": 4,
 "nbformat_minor": 2
}
