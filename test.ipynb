{
 "cells": [
  {
   "cell_type": "code",
   "execution_count": 1,
   "metadata": {},
   "outputs": [
    {
     "name": "stdout",
     "output_type": "stream",
     "text": [
      "12\n"
     ]
    }
   ],
   "source": [
    "a = [1,2,3,4,5,6,7,8,9,10]\n",
    "for i in range(1,len(a)):\n",
    "    a[i] = a[i-1] + a[i]\n",
    "\n",
    "# for index 2  to 4\n",
    "print(a[4]-a[1])"
   ]
  },
  {
   "cell_type": "code",
   "execution_count": 19,
   "metadata": {},
   "outputs": [
    {
     "data": {
      "text/plain": [
       "8"
      ]
     },
     "execution_count": 19,
     "metadata": {},
     "output_type": "execute_result"
    }
   ],
   "source": [
    "import math\n",
    "num = 36\n",
    "factors = 0\n",
    "for i in range(2,math.ceil(math.sqrt(num))+1):\n",
    "    if num%i == 0:\n",
    "        factors +=2 if num/i!=i else 1\n",
    "factors += 1\n",
    "factors"
   ]
  },
  {
   "cell_type": "code",
   "execution_count": 58,
   "metadata": {},
   "outputs": [
    {
     "name": "stdout",
     "output_type": "stream",
     "text": [
      "[3, 4, 5, 1, 2]\n"
     ]
    }
   ],
   "source": [
    "def reverseArray(arr, i, j):\n",
    "    while i < j:\n",
    "        arr[i], arr[j - 1] = arr[j - 1], arr[i]\n",
    "        i += 1\n",
    "        j -= 1\n",
    "    return arr\n",
    "\n",
    "arr = [1, 2, 3, 4, 5]\n",
    "n = 3\n",
    "n = n%len(arr)\n",
    "reverseArray(arr, 0, len(arr))\n",
    "reverseArray(arr,0,n)\n",
    "reverseArray(arr,n,len(arr))\n",
    "print(arr)"
   ]
  },
  {
   "cell_type": "code",
   "execution_count": 59,
   "metadata": {},
   "outputs": [
    {
     "name": "stdout",
     "output_type": "stream",
     "text": [
      "5 2\n"
     ]
    }
   ],
   "source": [
    "arr = [1, 2, 3, 4, 5]\n",
    "a = arr[0]\n",
    "b = arr[1]\n",
    "for i in arr:\n",
    "    if i>a:\n",
    "        a = i\n",
    "    elif i>b:\n",
    "        b = i\n",
    "print(a,b)\n",
    "\n"
   ]
  },
  {
   "cell_type": "code",
   "execution_count": 62,
   "metadata": {},
   "outputs": [
    {
     "name": "stdout",
     "output_type": "stream",
     "text": [
      "[0, 1, 1, 2, 2]\n",
      "2\n",
      "1\n"
     ]
    }
   ],
   "source": [
    "arr = [1,2,3,4,5]\n",
    "arr[0] = 1 if (arr[0]%2==0) else 0\n",
    "for i in range(1,len(arr)):\n",
    "    arr[i] = arr[i-1] + (1 if (arr[i]%2==0) else 0)\n",
    "print(arr)\n",
    "\n",
    "#range [1,3]\n",
    "print(arr[3]-arr[0])\n",
    "#range [2,4]\n",
    "print(arr[4]-arr[1])\n"
   ]
  },
  {
   "cell_type": "code",
   "execution_count": 5,
   "metadata": {},
   "outputs": [],
   "source": [
    "class Person:\n",
    "    def __init__(self,name,age:int,height:int):\n",
    "        self.name = name\n",
    "        self.age = age\n",
    "        self.height = height\n",
    "    \n",
    "    def __str__(self):\n",
    "        return f\"Person Details :: \\nName:{self.name}\\nAge:{self.age}\\nHeight:{self.height}\\n\"\n",
    "    \n",
    "    def __eq__(self, value: object) -> bool:\n",
    "        if not isinstance(value,Person):\n",
    "            return False\n",
    "        return value.name == self.name and self.age == value.age\n",
    "    \n",
    "    def setName(self,name):\n",
    "        self.name = name\n",
    "\n",
    "    def getName(self):\n",
    "        return self.name\n",
    "    \n",
    "    def setAge(self,age:int):\n",
    "        self.age = age\n",
    "\n",
    "    def getAge(self):\n",
    "        return self.age\n",
    "    \n",
    "    def setHeight(self,height:int):\n",
    "        self.height = height\n",
    "\n",
    "    def getHeight(self):\n",
    "        return self.height"
   ]
  },
  {
   "cell_type": "code",
   "execution_count": 8,
   "metadata": {},
   "outputs": [
    {
     "name": "stdout",
     "output_type": "stream",
     "text": [
      "True\n",
      "False\n",
      "False\n",
      "\n",
      "Person Details :: \n",
      "Name:Aditya\n",
      "Age:23\n",
      "Height:177\n",
      "\n",
      "Person Details :: \n",
      "Name:Ayush\n",
      "Age:23\n",
      "Height:180\n",
      "\n",
      "Person Details :: \n",
      "Name:Aditya\n",
      "Age:23\n",
      "Height:177\n",
      "\n",
      "To get class name ::  Person\n"
     ]
    }
   ],
   "source": [
    "a = Person(\"Aditya\",23,177)\n",
    "b = Person(\"Ayush\",23,180)\n",
    "c = Person(\"Aditya\",23,177)\n",
    "\n",
    "\n",
    "\n",
    "print(a==c)\n",
    "print(b==c)\n",
    "print(a==b)\n",
    "\n",
    "print()\n",
    "\n",
    "print(a)\n",
    "print(b)\n",
    "print(c)\n",
    "\n",
    "print(\"To get class name :: \", str(a.__class__.__name__))"
   ]
  },
  {
   "cell_type": "code",
   "execution_count": null,
   "metadata": {},
   "outputs": [],
   "source": [
    "\n"
   ]
  }
 ],
 "metadata": {
  "kernelspec": {
   "display_name": "Python 3",
   "language": "python",
   "name": "python3"
  },
  "language_info": {
   "codemirror_mode": {
    "name": "ipython",
    "version": 3
   },
   "file_extension": ".py",
   "mimetype": "text/x-python",
   "name": "python",
   "nbconvert_exporter": "python",
   "pygments_lexer": "ipython3",
   "version": "3.11.3"
  },
  "orig_nbformat": 4
 },
 "nbformat": 4,
 "nbformat_minor": 2
}
