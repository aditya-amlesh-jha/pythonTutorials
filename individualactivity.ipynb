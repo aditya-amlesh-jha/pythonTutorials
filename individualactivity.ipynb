{
 "cells": [
  {
   "cell_type": "code",
   "execution_count": 48,
   "metadata": {},
   "outputs": [],
   "source": [
    "import re"
   ]
  },
  {
   "cell_type": "code",
   "execution_count": 49,
   "metadata": {},
   "outputs": [],
   "source": [
    "class CustomException(Exception):\n",
    "    def __init__(self,message):\n",
    "        self.message = message\n",
    "    def __str__(self):\n",
    "        return f\"CustomException : {self.message}\\n\""
   ]
  },
  {
   "cell_type": "code",
   "execution_count": 50,
   "metadata": {},
   "outputs": [],
   "source": [
    "# check email @email using regex\n",
    "class EmailChecker:\n",
    "    def __init__(self,email):\n",
    "        self.email = email\n",
    "    def check_email(self):\n",
    "        pattern = r\"^[a-zA-Z0-9]+@[a-zA-Z0-9]+\\.[a-zA-Z0-9]+$\"\n",
    "        if re.match(pattern,self.email):\n",
    "            print(\"Valid email\")\n",
    "        else:\n",
    "            raise CustomException(\"Invalid email\")"
   ]
  },
  {
   "cell_type": "code",
   "execution_count": 51,
   "metadata": {},
   "outputs": [],
   "source": [
    "# check name using regex\n",
    "class NameChecker:\n",
    "    def __init__(self,name):\n",
    "        self.name = name\n",
    "    def check_name(self):\n",
    "        pattern = r\"^[a-zA-Z]+$\"\n",
    "        if re.match(pattern,self.name):\n",
    "            print(\"Valid name\")\n",
    "        else:\n",
    "            raise CustomException(\"Invalid name\")"
   ]
  },
  {
   "cell_type": "code",
   "execution_count": 52,
   "metadata": {},
   "outputs": [],
   "source": [
    "class UserDetails(EmailChecker,NameChecker):\n",
    "    def __init__(self,name,email):\n",
    "        self.name = name\n",
    "        self.email = email\n",
    "    def check_details(self):\n",
    "        flag = True\n",
    "        try:\n",
    "            self.check_name()\n",
    "            self.check_email()\n",
    "        except CustomException as e:\n",
    "            print(e)\n",
    "            flag = False\n",
    "        return flag\n",
    "\n"
   ]
  },
  {
   "cell_type": "code",
   "execution_count": 53,
   "metadata": {},
   "outputs": [],
   "source": [
    "class UserEmail:\n",
    "    def __init__(self):\n",
    "        self.details = []\n",
    "    def add_user_email(self,name,email):\n",
    "        temp = UserDetails(name,email)\n",
    "        if temp.check_details():\n",
    "            self.details.append(UserDetails(name,email))\n",
    "    # check name,email using regex \n",
    "    def check_user_email(self):\n",
    "        for detail in self.details:\n",
    "            detail.check_details()\n",
    "    # search name using regex \n",
    "    def search_name(self,name):\n",
    "        for detail in self.details:\n",
    "            if re.search(name,detail.name):\n",
    "                print(\"Found\")\n",
    "                return\n",
    "        print(\"Not found\")\n",
    "    # search email using regex\n",
    "    def search_email(self,email):\n",
    "        for detail in self.details:\n",
    "            if re.search(email,detail.email):\n",
    "                print(\"Found\")\n",
    "                return\n",
    "        print(\"Not found\")\n",
    "    def __str__(self):\n",
    "        res = \"\"\n",
    "        for detail in self.details:\n",
    "            res += f\"{detail.name} {detail.email}\\n\"\n",
    "        return res\n"
   ]
  },
  {
   "cell_type": "code",
   "execution_count": 54,
   "metadata": {},
   "outputs": [
    {
     "name": "stdout",
     "output_type": "stream",
     "text": [
      "Valid name\n",
      "Valid email\n",
      "Valid name\n",
      "Valid email\n",
      "Valid name\n",
      "CustomException : Invalid email\n",
      "\n",
      "Valid name\n",
      "Valid email\n",
      "Valid name\n",
      "Valid email\n",
      "Found\n",
      "Not found\n",
      "Not found\n",
      "Found\n",
      "Raj raj@gmail.com\n",
      "Rahul rahul@gmail.com\n",
      "\n"
     ]
    }
   ],
   "source": [
    "user = UserEmail()\n",
    "\n",
    "user.add_user_email(\"Raj\",\"raj@gmail.com\")\n",
    "user.add_user_email(\"Rahul\",\"rahul@gmail.com\")\n",
    "user.add_user_email(\"Ravi\",\"ravigmail.com\")\n",
    "\n",
    "user.check_user_email()\n",
    "user.search_name(\"Raj\")\n",
    "user.search_name(\"Raju\")\n",
    "user.search_email(\"ravi@gmail.com\")\n",
    "user.search_email(\"raj@gmail.com\")\n",
    "print(user)\n"
   ]
  },
  {
   "cell_type": "code",
   "execution_count": null,
   "metadata": {},
   "outputs": [],
   "source": []
  }
 ],
 "metadata": {
  "kernelspec": {
   "display_name": "Python 3",
   "language": "python",
   "name": "python3"
  },
  "language_info": {
   "codemirror_mode": {
    "name": "ipython",
    "version": 3
   },
   "file_extension": ".py",
   "mimetype": "text/x-python",
   "name": "python",
   "nbconvert_exporter": "python",
   "pygments_lexer": "ipython3",
   "version": "3.11.3"
  },
  "orig_nbformat": 4
 },
 "nbformat": 4,
 "nbformat_minor": 2
}
