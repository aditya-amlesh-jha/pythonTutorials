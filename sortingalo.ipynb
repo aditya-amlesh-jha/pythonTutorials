{
 "cells": [
  {
   "cell_type": "code",
   "execution_count": 7,
   "metadata": {},
   "outputs": [],
   "source": [
    "def bubbleSort(arr):\n",
    "    for i in range(len(arr)):\n",
    "        flag = True\n",
    "        for j in range(0,len(arr)-1-i):\n",
    "                if arr[j]>arr[j+1]:\n",
    "                    arr[j],arr[j+1] = arr[j+1],arr[j]\n",
    "                    flag = False\n",
    "        if flag:\n",
    "             break\n",
    "    return arr"
   ]
  },
  {
   "cell_type": "code",
   "execution_count": 8,
   "metadata": {},
   "outputs": [
    {
     "name": "stdout",
     "output_type": "stream",
     "text": [
      "[1, 2, 3, 5, 6, 8]\n"
     ]
    }
   ],
   "source": [
    "print(bubbleSort([5,2,3,8,1,6]))"
   ]
  },
  {
   "cell_type": "code",
   "execution_count": 1,
   "metadata": {},
   "outputs": [],
   "source": [
    "def insertionSort(arr):\n",
    "    # Traverse through 1 to len(arr)\n",
    "    for i in range(len(arr)):\n",
    "        # key is the element to be compared\n",
    "        key = arr[i]\n",
    "        # Move elements of arr[0..i-1], that are greater than key, to one position ahead of their current position\n",
    "        j = i-1\n",
    "        # while j is greater than or equal to 0 and key is less than arr[j]\n",
    "        while j>=0 and key<arr[j]:\n",
    "            # move arr[j] to arr[j+1]\n",
    "            arr[j+1] = arr[j]\n",
    "            # decrement j\n",
    "            j -= 1\n",
    "        # assign key to arr[j+1]\n",
    "        arr[j+1] = key\n",
    "    return arr"
   ]
  },
  {
   "cell_type": "code",
   "execution_count": 2,
   "metadata": {},
   "outputs": [
    {
     "name": "stdout",
     "output_type": "stream",
     "text": [
      "[1, 2, 3, 5, 6, 8]\n"
     ]
    }
   ],
   "source": [
    "print(insertionSort([5,2,3,8,1,6]))"
   ]
  },
  {
   "cell_type": "code",
   "execution_count": 5,
   "metadata": {},
   "outputs": [],
   "source": [
    "# Time Complexity: O(n^2)\n",
    "def selectionSort(arr):\n",
    "    # Traverse through all array elements\n",
    "    for i in range(len(arr)):\n",
    "        # Find the minimum element in remaining unsorted array\n",
    "        for j in range(i+1,len(arr)):\n",
    "            # if arr[j] is less than arr[i]\n",
    "            if arr[i]>arr[j]:\n",
    "                # swap arr[i] and arr[j]\n",
    "                arr[i],arr[j] = arr[j],arr[i]            \n",
    "    return arr"
   ]
  },
  {
   "cell_type": "code",
   "execution_count": 6,
   "metadata": {},
   "outputs": [
    {
     "name": "stdout",
     "output_type": "stream",
     "text": [
      "[1, 2, 3, 4, 6, 9]\n"
     ]
    }
   ],
   "source": [
    "print(selectionSort([1,9,2,6,3,4]))"
   ]
  },
  {
   "cell_type": "code",
   "execution_count": 14,
   "metadata": {},
   "outputs": [],
   "source": [
    "# snoop is used for debugging\n",
    "# birdseye is used for debugging flask apps"
   ]
  },
  {
   "cell_type": "code",
   "execution_count": 15,
   "metadata": {},
   "outputs": [],
   "source": [
    "class HeapSort:\n",
    "    def __init__(self):\n",
    "        self.arr = []\n",
    "\n",
    "    def insert(self, val):\n",
    "        self.arr.append(val)\n",
    "        self.heapify(0, len(self.arr))\n",
    "\n",
    "    def delete(self):\n",
    "        if len(self.arr) == 0:\n",
    "            return \"Array is empty\"\n",
    "        last_index = len(self.arr) - 1\n",
    "        self.arr[0], self.arr[last_index] = self.arr[last_index], self.arr[0]\n",
    "        ret = self.arr.pop()\n",
    "        self.heapify(0, len(self.arr))\n",
    "        return ret\n",
    "\n",
    "    def heapify(self, i, size):\n",
    "        smallest = i\n",
    "        left_child = 2 * i + 1\n",
    "        right_child = 2 * i + 2\n",
    "\n",
    "        if left_child < size and self.arr[left_child] < self.arr[smallest]:\n",
    "            smallest = left_child\n",
    "\n",
    "        if right_child < size and self.arr[right_child] < self.arr[smallest]:\n",
    "            smallest = right_child\n",
    "\n",
    "        if i != smallest:\n",
    "            self.arr[i], self.arr[smallest] = self.arr[smallest], self.arr[i]\n",
    "            self.heapify(smallest, size)\n",
    "\n",
    "    def heapSort(self):\n",
    "        # Build heap\n",
    "        for i in range(len(self.arr) // 2 - 1, -1, -1):\n",
    "            self.heapify(i, len(self.arr))\n",
    "\n",
    "        # Perform heap sort\n",
    "        for i in range(len(self.arr) - 1, 0, -1):\n",
    "            self.arr[0], self.arr[i] = self.arr[i], self.arr[0]\n",
    "            self.heapify(0, i)"
   ]
  },
  {
   "cell_type": "code",
   "execution_count": 6,
   "metadata": {},
   "outputs": [],
   "source": [
    "def mergeSort(arr,start,end):\n",
    "    if start == end:\n",
    "        return \n",
    "    mid = start+(end-start)//2\n",
    "    mergeSort(arr,start,mid)\n",
    "    mergeSort(arr,mid+1,end)\n",
    "    def merge(arr,start,mid,end):\n",
    "        left = arr[start:mid+1]\n",
    "        right = arr[mid+1:end+1]\n",
    "        i = j = 0\n",
    "        k = start\n",
    "        while i<len(left) and j<len(right):\n",
    "            if left[i]<=right[j]:\n",
    "                arr[k] = left[i]\n",
    "                i += 1\n",
    "            else:\n",
    "                arr[k] = right[j]\n",
    "                j += 1\n",
    "            k += 1\n",
    "        while i<len(left):\n",
    "            arr[k] = left[i]\n",
    "            i += 1\n",
    "            k += 1\n",
    "        while j<len(right):\n",
    "            arr[k] = right[j]\n",
    "            j += 1\n",
    "            k += 1\n",
    "    merge(arr,start,mid,end)"
   ]
  },
  {
   "cell_type": "code",
   "execution_count": 8,
   "metadata": {},
   "outputs": [
    {
     "name": "stdout",
     "output_type": "stream",
     "text": [
      "[1, 1, 2, 2, 2, 3, 3, 5, 5, 6, 6, 8]\n"
     ]
    }
   ],
   "source": [
    "arr = [5,2,3,5,3,2,6,1,2,8,1,6]\n",
    "mergeSort(arr,0,len(arr)-1)\n",
    "print(arr)"
   ]
  },
  {
   "cell_type": "code",
   "execution_count": null,
   "metadata": {},
   "outputs": [],
   "source": []
  }
 ],
 "metadata": {
  "kernelspec": {
   "display_name": "Python 3",
   "language": "python",
   "name": "python3"
  },
  "language_info": {
   "codemirror_mode": {
    "name": "ipython",
    "version": 3
   },
   "file_extension": ".py",
   "mimetype": "text/x-python",
   "name": "python",
   "nbconvert_exporter": "python",
   "pygments_lexer": "ipython3",
   "version": "3.11.3"
  },
  "orig_nbformat": 4
 },
 "nbformat": 4,
 "nbformat_minor": 2
}
